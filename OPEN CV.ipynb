{
 "cells": [
  {
   "cell_type": "markdown",
   "id": "c3cf9a24",
   "metadata": {},
   "source": [
    "# OPEN CV"
   ]
  },
  {
   "cell_type": "code",
   "execution_count": 1,
   "id": "a5fc0d06",
   "metadata": {},
   "outputs": [],
   "source": [
    "#installation\n"
   ]
  },
  {
   "cell_type": "code",
   "execution_count": 1,
   "id": "5f48198f",
   "metadata": {},
   "outputs": [
    {
     "name": "stdout",
     "output_type": "stream",
     "text": [
      "Requirement already satisfied: opencv-python in c:\\users\\saisu\\anaconda3\\python\\lib\\site-packages (4.9.0.80)\n",
      "Requirement already satisfied: numpy>=1.21.2 in c:\\users\\saisu\\anaconda3\\python\\lib\\site-packages (from opencv-python) (1.24.3)\n",
      "Note: you may need to restart the kernel to use updated packages.\n"
     ]
    }
   ],
   "source": [
    "pip install opencv-python"
   ]
  },
  {
   "cell_type": "code",
   "execution_count": 2,
   "id": "d45fed82",
   "metadata": {},
   "outputs": [
    {
     "name": "stdout",
     "output_type": "stream",
     "text": [
      "Requirement already satisfied: opencv-python in c:\\users\\saisu\\anaconda3\\python\\lib\\site-packages (4.9.0.80)\n",
      "Requirement already satisfied: numpy>=1.21.2 in c:\\users\\saisu\\anaconda3\\python\\lib\\site-packages (from opencv-python) (1.24.3)\n",
      "Note: you may need to restart the kernel to use updated packages.\n"
     ]
    }
   ],
   "source": [
    "pip install --upgrade opencv-python"
   ]
  },
  {
   "cell_type": "code",
   "execution_count": 3,
   "id": "9178441a",
   "metadata": {},
   "outputs": [],
   "source": [
    "import cv2\n",
    "import numpy as np"
   ]
  },
  {
   "cell_type": "markdown",
   "id": "f26b4cac",
   "metadata": {},
   "source": [
    "# Load/Read image"
   ]
  },
  {
   "cell_type": "code",
   "execution_count": 4,
   "id": "a922930f",
   "metadata": {},
   "outputs": [],
   "source": [
    "# load an image using 'imread' specifying the path to image\n",
    "\n",
    "img = cv2.imread(\"C:\\\\Users\\\\saisu\\\\Downloads\\\\Modi.jpg\",1)"
   ]
  },
  {
   "cell_type": "markdown",
   "id": "d1d6b3a1",
   "metadata": {},
   "source": [
    "# Lets take a closer look at how images are stored"
   ]
  },
  {
   "cell_type": "code",
   "execution_count": 5,
   "id": "48774149",
   "metadata": {},
   "outputs": [
    {
     "name": "stdout",
     "output_type": "stream",
     "text": [
      "[[[255 255 255]\n",
      "  [255 255 255]\n",
      "  [255 255 255]\n",
      "  ...\n",
      "  [255 255 255]\n",
      "  [255 255 255]\n",
      "  [255 255 255]]\n",
      "\n",
      " [[255 255 255]\n",
      "  [255 255 255]\n",
      "  [255 255 255]\n",
      "  ...\n",
      "  [255 255 255]\n",
      "  [255 255 255]\n",
      "  [255 255 255]]\n",
      "\n",
      " [[255 255 255]\n",
      "  [255 255 255]\n",
      "  [255 255 255]\n",
      "  ...\n",
      "  [255 255 255]\n",
      "  [255 255 255]\n",
      "  [255 255 255]]\n",
      "\n",
      " ...\n",
      "\n",
      " [[255 255 255]\n",
      "  [255 255 255]\n",
      "  [255 255 255]\n",
      "  ...\n",
      "  [255 255 255]\n",
      "  [255 255 255]\n",
      "  [255 255 255]]\n",
      "\n",
      " [[255 255 255]\n",
      "  [255 255 255]\n",
      "  [255 255 255]\n",
      "  ...\n",
      "  [255 255 255]\n",
      "  [255 255 255]\n",
      "  [255 255 255]]\n",
      "\n",
      " [[255 255 255]\n",
      "  [255 255 255]\n",
      "  [255 255 255]\n",
      "  ...\n",
      "  [255 255 255]\n",
      "  [255 255 255]\n",
      "  [255 255 255]]]\n"
     ]
    }
   ],
   "source": [
    "print(img)"
   ]
  },
  {
   "cell_type": "markdown",
   "id": "e97335d1",
   "metadata": {},
   "source": [
    "# shape gives the dimensions of the image array"
   ]
  },
  {
   "cell_type": "code",
   "execution_count": 6,
   "id": "e96de8d6",
   "metadata": {},
   "outputs": [
    {
     "data": {
      "text/plain": [
       "(1358, 1500, 3)"
      ]
     },
     "execution_count": 6,
     "metadata": {},
     "output_type": "execute_result"
    }
   ],
   "source": [
    "img.shape"
   ]
  },
  {
   "cell_type": "markdown",
   "id": "272a12fa",
   "metadata": {},
   "source": [
    "# Display the image"
   ]
  },
  {
   "cell_type": "code",
   "execution_count": 7,
   "id": "29661562",
   "metadata": {},
   "outputs": [],
   "source": [
    "# to display our image variable . we use 'imshow'\n",
    "#the first parameter will be title show on the image\n",
    "# the second parameter is the image variable\n",
    "\n",
    "cv2.imshow(\"PM\", img)\n",
    "\n",
    "# 'waitkey' allows us to input information when a image window is opem\n",
    "# by leaving it blank it just waits for anykey to be pressed before countinuing\n",
    "# by placing numbers (except 0 ), we can specify a delay for\n",
    "# how long you keep the window open (time is in milliseconds here)\n",
    "\n",
    "cv2.waitKey(2000)\n",
    "\n",
    "#this closes all open windows\n",
    "#failure to place this will cause your program to hang\n",
    "\n",
    "cv2.destroyAllWindows()"
   ]
  },
  {
   "cell_type": "code",
   "execution_count": null,
   "id": "296d5b9e",
   "metadata": {},
   "outputs": [],
   "source": [
    "img = cv2.imread(\"C:\\\\Users\\\\saisu\\\\Downloads\\\\Modi.jpg\")\n",
    "cv2.imshow(\"PM\", img)\n",
    "cv2.waitKey()\n",
    "cv2.destroyAllWindows()"
   ]
  },
  {
   "cell_type": "markdown",
   "id": "06cefb65",
   "metadata": {},
   "source": [
    "# Save image"
   ]
  },
  {
   "cell_type": "code",
   "execution_count": 8,
   "id": "456c118d",
   "metadata": {},
   "outputs": [
    {
     "data": {
      "text/plain": [
       "True"
      ]
     },
     "execution_count": 8,
     "metadata": {},
     "output_type": "execute_result"
    }
   ],
   "source": [
    "# simply use 'imwrite' specificing the file name and the image to be saved\n",
    "\n",
    "cv2.imwrite(\"pm_pic.jpg\",img)"
   ]
  },
  {
   "cell_type": "markdown",
   "id": "833c5b9b",
   "metadata": {},
   "source": [
    "# Resize image"
   ]
  },
  {
   "cell_type": "code",
   "execution_count": 9,
   "id": "839c0e01",
   "metadata": {},
   "outputs": [],
   "source": [
    "img = cv2.imread(\"C:\\\\Users\\\\saisu\\\\Downloads\\\\Modi.jpg\")\n",
    "\n",
    "resized_image = cv2.resize(img,(500,500))\n",
    "    \n",
    "gray =  cv2.cvtColor(resized_image, cv2.COLOR_BGR2GRAY)\n",
    "\n",
    "cv2.imshow('Modi img',gray)\n",
    "\n",
    "cv2.waitKey()\n",
    "cv2.destroyAllWindows()"
   ]
  },
  {
   "cell_type": "code",
   "execution_count": 10,
   "id": "b55fc772",
   "metadata": {},
   "outputs": [
    {
     "data": {
      "text/plain": [
       "679.0"
      ]
     },
     "execution_count": 10,
     "metadata": {},
     "output_type": "execute_result"
    }
   ],
   "source": [
    "img.shape[0]*0.5"
   ]
  },
  {
   "cell_type": "code",
   "execution_count": 11,
   "id": "924c7079",
   "metadata": {},
   "outputs": [
    {
     "data": {
      "text/plain": [
       "750.0"
      ]
     },
     "execution_count": 11,
     "metadata": {},
     "output_type": "execute_result"
    }
   ],
   "source": [
    "img.shape[1]*0.5"
   ]
  },
  {
   "cell_type": "markdown",
   "id": "98561cc1",
   "metadata": {},
   "source": [
    "# Face Detection using HAAR cascade classifier"
   ]
  },
  {
   "cell_type": "code",
   "execution_count": 12,
   "id": "8006e71c",
   "metadata": {},
   "outputs": [],
   "source": [
    "# we point opencv's cascadeclassifier funcion to where our classifier(XML file format) is stored\n",
    "\n",
    "face_classifier = cv2.CascadeClassifier(\"C:\\\\Users\\\\saisu\\\\OneDrive\\\\Documents\\\\haarcascade_frontalface_default.xml\")"
   ]
  },
  {
   "cell_type": "code",
   "execution_count": 13,
   "id": "0b3bd0c0",
   "metadata": {},
   "outputs": [],
   "source": [
    "#load our  image the convert it to grayscale\n",
    "image = cv2.imread(\"C:\\\\Users\\\\saisu\\\\Downloads\\\\Modi.jpg\")\n",
    "image = cv2.resize(img,(500,500))\n",
    "gray = cv2.cvtColor(image, cv2.COLOR_BGR2GRAY)\n",
    "\n",
    "### tuning cascade classifier - detectMultiscale(input image, **scale factor** , ** min neighbours)\n",
    "\n",
    "faces = face_classifier.detectMultiScale(gray, 1.05, 5)\n",
    "\n",
    "# scale factor - specifies how much we reduce the image size each time we scale.\n",
    "\n",
    "# e.g. in face detection we typically use 1.3. this means we reduce the image by 30% each time it's \n",
    "\n",
    "# smaller values , like 1.05 will take longer to compute, but will increase the rate of detection.\n",
    "\n",
    "## min Neighbours**\n",
    "\n",
    "#specifies the number of neighbours each potential window should have in order to consider it a positive detection.\n",
    "\n",
    "# typically set between 3-6\n",
    "\n",
    "# it acts as sensitivity  setting,low values will sometimes detech multiples faces over a single face.\n",
    "\n",
    "#high values will ensure less false positives,but you may miss some faces"
   ]
  },
  {
   "cell_type": "code",
   "execution_count": 14,
   "id": "2bd66eff",
   "metadata": {},
   "outputs": [
    {
     "name": "stdout",
     "output_type": "stream",
     "text": [
      "[[205  79 217 217]]\n"
     ]
    }
   ],
   "source": [
    "print (faces)"
   ]
  },
  {
   "cell_type": "code",
   "execution_count": 15,
   "id": "2158df77",
   "metadata": {},
   "outputs": [
    {
     "name": "stderr",
     "output_type": "stream",
     "text": [
      "<>:41: SyntaxWarning: \"is\" with a literal. Did you mean \"==\"?\n",
      "<>:41: SyntaxWarning: \"is\" with a literal. Did you mean \"==\"?\n",
      "C:\\Users\\saisu\\AppData\\Local\\Temp\\ipykernel_11472\\574044032.py:41: SyntaxWarning: \"is\" with a literal. Did you mean \"==\"?\n",
      "  if faces is ():\n"
     ]
    }
   ],
   "source": [
    "## we point opencv's cascadeclassifier funcion to where our classifier(XML file format) is stored\n",
    "\n",
    "face_classifier = cv2.CascadeClassifier(\"C:\\\\Users\\\\saisu\\\\OneDrive\\\\Documents\\\\haarcascade_frontalface_default.xml\")\n",
    "\n",
    "# load our image then convert it to grayscale\n",
    "image = cv2.imread(\"C:\\\\Users\\\\saisu\\\\Downloads\\\\Modi.jpg\")\n",
    "image = cv2.resize(img,(500,500))\n",
    "gray = cv2.cvtColor(image, cv2.COLOR_BGR2GRAY)\n",
    "\n",
    "#### tuning cascade classifier - detectMultiscale(input image, **scale factor** , ** min neighbours)\n",
    "\n",
    "faces = face_classifier.detectMultiScale(gray, 1.05, 5)\n",
    "\n",
    "\n",
    "#load our  image the convert it to grayscale\n",
    "image = cv2.imread(\"C:\\\\Users\\\\saisu\\\\Downloads\\\\Modi.jpg\")\n",
    "image = cv2.resize(img,(500,500))\n",
    "gray = cv2.cvtColor(image, cv2.COLOR_BGR2GRAY)\n",
    "\n",
    "### tuning cascade classifier - detectMultiscale(input image, **scale factor** , ** min neighbours)\n",
    "\n",
    "faces = face_classifier.detectMultiScale(gray, 1.05, 5)\n",
    "\n",
    "# scale factor - specifies how much we reduce the image size each time we scale.\n",
    "\n",
    "# e.g. in face detection we typically use 1.3. this means we reduce the image by 30% each time it's \n",
    "\n",
    "# smaller values , like 1.05 will take longer to compute, but will increase the rate of detection.\n",
    "\n",
    "## min Neighbours**\n",
    "\n",
    "#specifies the number of neighbours each potential window should have in order to consider it a positive detection.\n",
    "\n",
    "# typically set between 3-6\n",
    "\n",
    "# it acts as sensitivity  setting,low values will sometimes detech multiples faces over a single face.\n",
    "\n",
    "#high values will ensure less false positives,but you may miss some faces\n",
    "\n",
    "# when no faces detected, face_classifier retruns and empty tuple\n",
    "if faces is ():\n",
    "    print(\"NO faces found\")\n",
    "\n",
    "# we iterate through our faces array and draw a rectangle\n",
    "# over each face in faces\n",
    "for (x,y,w,h) in faces:\n",
    "    cv2.rectangle(image, (x,y), (x+w,y+h), (0,255,100), 1)\n",
    "    \n",
    "    \n",
    "cv2.imshow(\"Face Detection\", image)\n",
    "cv2.waitKey()\n",
    "cv2.destroyAllWindows()"
   ]
  },
  {
   "cell_type": "markdown",
   "id": "81038f06",
   "metadata": {},
   "source": [
    "# Face & Eye detection using HAAR cascade classifiers in image"
   ]
  },
  {
   "cell_type": "code",
   "execution_count": 16,
   "id": "1ae8e142",
   "metadata": {},
   "outputs": [
    {
     "name": "stderr",
     "output_type": "stream",
     "text": [
      "<>:11: SyntaxWarning: \"is\" with a literal. Did you mean \"==\"?\n",
      "<>:11: SyntaxWarning: \"is\" with a literal. Did you mean \"==\"?\n",
      "C:\\Users\\saisu\\AppData\\Local\\Temp\\ipykernel_11472\\1221590260.py:11: SyntaxWarning: \"is\" with a literal. Did you mean \"==\"?\n",
      "  if faces is ():\n"
     ]
    }
   ],
   "source": [
    "face_classifier = cv2.CascadeClassifier(\"C:\\\\Users\\\\saisu\\\\OneDrive\\\\Documents\\\\haarcascade_frontalface_default.xml\")\n",
    "eye_classifier = cv2.CascadeClassifier(\"C:\\\\Users\\\\saisu\\\\OneDrive\\\\Documents\\\\haarcascade_eye.xml\")\n",
    "\n",
    "img = cv2.imread(\"C:\\\\Users\\\\saisu\\\\Downloads\\\\Modi.jpg\")\n",
    "resized_image = cv2.resize(img,(500,500))\n",
    "gray = cv2.cvtColor(image, cv2.COLOR_BGR2GRAY)\n",
    "\n",
    "faces = face_classifier.detectMultiScale(gray, 1.3, 5)\n",
    "\n",
    "# when no faces detected, face_classifier retruns and empty tuple\n",
    "if faces is ():\n",
    "    print(\"NO faces found\")\n",
    "\n",
    "# we iterate through our faces array and draw a rectangle\n",
    "# over each face in faces\n",
    "for (x,y,w,h) in faces:\n",
    "    cv2.rectangle(image, (x,y), (x+w,y+h), (255,0,0), 2)\n",
    "    roi_gray = gray[y:y+h, x:x+y]\n",
    "    roi_color = resized_image[y:y+h, x:x+w]\n",
    "    eyes = eye_classifier.detectMultiScale(roi_gray)\n",
    "    \n",
    "    for(ex,ey,ew,eh) in eyes:\n",
    "        cv2.rectangle(roi_color,(ex,ey),(ex+ew,ey+eh),(0,255,0),2)\n",
    "        \n",
    "cv2.imshow(\"img\", resized_image)\n",
    "cv2.waitKey(0)\n",
    "\n",
    "cv2.destroyAllWindows()\n"
   ]
  },
  {
   "cell_type": "markdown",
   "id": "318124fc",
   "metadata": {},
   "source": [
    "# capture a video"
   ]
  },
  {
   "cell_type": "code",
   "execution_count": null,
   "id": "c625ceea",
   "metadata": {},
   "outputs": [],
   "source": [
    "# doing some face recognition with the web\n",
    "\n",
    "import cv2\n",
    "video = cv2.VideoCapture(0)  #)=0 --webcam\n",
    "\n",
    "while True:\n",
    "    check, frame = video.read()\n",
    "    gray = cv2.cvtColor(frame, cv2.COLOR_BGR2GRAY)\n",
    "    cv2.imshow('Video',gray)\n",
    "    if cv2.waitKey(1) == ord('q'):\n",
    "        break\n",
    "    \n",
    "video.release()\n",
    "cv2.destroyAllWindows()"
   ]
  },
  {
   "cell_type": "markdown",
   "id": "98889f92",
   "metadata": {},
   "source": [
    "# Face & eye detection using HAAR cascade classifiers"
   ]
  },
  {
   "cell_type": "code",
   "execution_count": null,
   "id": "f5d5c984",
   "metadata": {},
   "outputs": [],
   "source": [
    "# defining a function that will do the detections\n",
    "\n",
    "face_cascade = cv2.CascadeClassifier(\"C:\\\\Users\\\\saisu\\\\OneDrive\\\\Documents\\\\haarcascade_frontalface_default.xml\")\n",
    "eye_cascade = cv2.CascadeClassifier(\"C:\\\\Users\\\\saisu\\\\OneDrive\\\\Documents\\\\haarcascade_eye.xml\")\n",
    "\n",
    "\n",
    "def detect(gray, frame): \n",
    "    faces = face_cascade.detectMultiScale(gray, 1.3, 5)\n",
    "    \n",
    "    for (x, y, w, h) in faces:\n",
    "        cv2.rectangle(frame, (x, y), (x+w, y+h), (255, 0, 0), 2)\n",
    "        roi_gray = gray[y:y+h, x:x+y]\n",
    "        roi_color = frame[y:y+h, x:x+w]\n",
    "        eyes = eye_cascade.detectMultiScale(roi_gray, 1.1, 3)\n",
    "    \n",
    "        for (ex, ey, ew, eh) in eyes:\n",
    "            cv2.rectangle(roi_color, (ex, ey), (ex+ew, ey+eh), (0, 255, 0),2)\n",
    "        \n",
    "    return frame\n",
    "\n",
    "# doing some face recognition with the web\n",
    "\n",
    "video = cv2.VideoCapture(0)  #)=0 --webcam\n",
    "\n",
    "while True:\n",
    "    check, frame = video.read()\n",
    "    gray = cv2.cvtColor(frame, cv2.COLOR_BGR2GRAY)\n",
    "    canvas = detect(gray, frame)\n",
    "    cv2.imshow('Video', canvas)\n",
    "    if cv2.waitKey(1) == ord('q'):\n",
    "        break\n",
    "    \n",
    "video.release()\n",
    "cv2.destroyAllWindows()\n"
   ]
  },
  {
   "cell_type": "markdown",
   "id": "6273981c",
   "metadata": {},
   "source": [
    "# Pedistrian Detection "
   ]
  },
  {
   "cell_type": "code",
   "execution_count": null,
   "id": "9d07922a",
   "metadata": {},
   "outputs": [],
   "source": [
    "import cv2\n",
    "\n",
    "# create our body classifier\n",
    "body_classifier = cv2.CascadeClassifier(\"C:\\\\Users\\\\saisu\\\\OneDrive\\\\Documents\\\\haarcascade_fullbody.xml\")\n",
    "\n",
    "#initiate video capture for video file\n",
    "cap = cv2.VideoCapture(\"C:\\\\Users\\\\saisu\\\\Downloads\\\\Walking.avi\")\n",
    "\n",
    "#loop once video is successfully loaded\n",
    "\n",
    "while cap.isOpened():\n",
    "    \n",
    "    #read first frame\n",
    "    check, frame = cap.read()\n",
    "    gray = cv2.cvtColor(frame, cv2.COLOR_BGR2GRAY)\n",
    "    #pass frame to our body classifer\n",
    "    bodies = body_classifier.detectMultiScale(gray, 1.2, 3)\n",
    "    \n",
    "    #extract bounding boxes for any bodies identified\n",
    "    for(x,y,w,h) in bodies:\n",
    "        cv2.rectangle(frame, (x,y), (x+w, y+h), (0, 255, 255), 2)\n",
    "        cv2.imshow(\"Pedestraians\", frame)\n",
    "        \n",
    "    if cv2.waitKey(1)== ord('q'):\n",
    "        break\n",
    "        \n",
    "cap.release()\n",
    "cv2.destroyAllWindows()\n",
    "    \n",
    "    "
   ]
  },
  {
   "cell_type": "code",
   "execution_count": null,
   "id": "6a0f7e73",
   "metadata": {},
   "outputs": [],
   "source": [
    "import time\n",
    "\n",
    "#create our body classifier\n",
    "\n",
    "car_classifier = cv2.CascadeClassifier(\"C:\\\\Users\\\\saisu\\\\OneDrive\\\\Documents\\\\haarcascade_car.xml\")\n",
    "\n",
    "#initiate video capture for video file\n",
    "\n",
    "cap = cv2.VideoCapture(\"C:\\\\Users\\\\saisu\\\\cars.avi\")\n",
    "\n",
    "#loop once video is successfully loaded\n",
    "while cap.isOpened():\n",
    "    \n",
    "    time.sleep(.05)\n",
    "    #read frist frame\n",
    "    \n",
    "    check, frame = cap.read()\n",
    "    \n",
    "    gray = cv2.cvtColor(frame, cv2.COLOR_BGR2GRAY)\n",
    "    \n",
    "    # pass frame to our car classifier\n",
    "    cars = car_classifier.detechMultiScale(gray, 1.4, 2)\n",
    "    \n",
    "    #extract bounding boxes for any bodies identified\n",
    "    for (x,y,w,h) in cars:\n",
    "        cv2.rectangle(frame, (x,y), (x+w, y+h), (0,255,255), 2)\n",
    "        cv2.imshow('Cars', frame)\n",
    "        \n",
    "    if cv2.waitKey(1) == ord('q'):\n",
    "        break \n",
    "    \n",
    "cap.release()\n",
    "cv2.destroyAllWindows()"
   ]
  }
 ],
 "metadata": {
  "kernelspec": {
   "display_name": "Python 3 (ipykernel)",
   "language": "python",
   "name": "python3"
  },
  "language_info": {
   "codemirror_mode": {
    "name": "ipython",
    "version": 3
   },
   "file_extension": ".py",
   "mimetype": "text/x-python",
   "name": "python",
   "nbconvert_exporter": "python",
   "pygments_lexer": "ipython3",
   "version": "3.11.4"
  }
 },
 "nbformat": 4,
 "nbformat_minor": 5
}
